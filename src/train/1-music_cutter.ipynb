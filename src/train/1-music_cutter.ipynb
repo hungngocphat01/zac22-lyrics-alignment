{
 "cells": [
  {
   "cell_type": "code",
   "execution_count": 1,
   "id": "7ba7c028-cec4-4396-9079-c06bf5f4e56c",
   "metadata": {},
   "outputs": [],
   "source": [
    "import soundfile as sf\n",
    "import numpy as np\n",
    "import json\n",
    "from tqdm import tqdm\n",
    "import os"
   ]
  },
  {
   "cell_type": "code",
   "execution_count": 2,
   "id": "f2e52ac6-da0a-42ae-9bc7-40e66e417413",
   "metadata": {},
   "outputs": [],
   "source": [
    "files = os.listdir(\"labels\")\n",
    "\n",
    "file_ids = [f.split(\".\")[0] for f in files]\n",
    "file_ids = filter(lambda x: len(x) > 0, file_ids)\n",
    "\n",
    "LABEL_PATH = \"labels\"\n",
    "SONGS_PATH = \"songs\""
   ]
  },
  {
   "cell_type": "code",
   "execution_count": 3,
   "id": "be7391c1-1dda-4d1b-b856-1e16128f6535",
   "metadata": {},
   "outputs": [],
   "source": [
    "NEW_LABEL_PATH = \"new-labels\"\n",
    "NEW_SONGS_PATH = \"new-songs\""
   ]
  },
  {
   "cell_type": "code",
   "execution_count": 4,
   "id": "abb65048-c2d4-402b-8402-f441caca70b1",
   "metadata": {},
   "outputs": [],
   "source": [
    "def get_audio_segment(audiodata, samplerate, start_ms, end_ms):\n",
    "    d = audiodata[int(start_ms / 1000*samplerate):int(end_ms / 1000*samplerate)]\n",
    "    return d"
   ]
  },
  {
   "cell_type": "code",
   "execution_count": 6,
   "id": "f00d7a61-d17b-4016-a5e5-4e5fffa4fda9",
   "metadata": {},
   "outputs": [
    {
     "name": "stderr",
     "output_type": "stream",
     "text": [
      "1056it [01:16, 13.74it/s]\n"
     ]
    }
   ],
   "source": [
    "for file_id in tqdm(file_ids):\n",
    "    # Read label file\n",
    "    label_file = os.path.join(LABEL_PATH, file_id + \".json\")\n",
    "    with open(label_file) as f:\n",
    "        label_file = f.read()\n",
    "    label_data = json.loads(label_file)\n",
    "    \n",
    "    # Read audio file\n",
    "    sound_file = os.path.join(SONGS_PATH, file_id + \".wav\")\n",
    "    audiodata, samplerate = sf.read(sound_file)\n",
    "    audiodata = np.mean(audiodata, axis=1)\n",
    "    \n",
    "    # Break segment into sentences\n",
    "    for i, sent_label in enumerate(label_data):\n",
    "        # Original start offset (in ms) of this sentence\n",
    "        orig_start = sent_label[\"s\"]\n",
    "        new_label = {\"orig_s\": orig_start, \"l\": []}\n",
    "        \n",
    "        sent_text = []\n",
    "        for tok in sent_label[\"l\"]:\n",
    "            new_tok = {\n",
    "                \"s\": tok[\"s\"] - orig_start,\n",
    "                \"e\": tok[\"e\"] - orig_start,\n",
    "                \"d\": tok[\"d\"].lower()\n",
    "            }\n",
    "            sent_text.append(tok[\"d\"])\n",
    "            new_label[\"l\"].append(new_tok)\n",
    "        \n",
    "        # Dump new label for this sentence\n",
    "        with open(os.path.join(NEW_LABEL_PATH, file_id + \"-\" + str(i) + \".json\"), \"wt\") as f:\n",
    "            f.write(json.dumps(new_label))\n",
    "        \n",
    "        # Dump new audio data\n",
    "        sent_audiodata = get_audio_segment(audiodata, samplerate, sent_label[\"s\"], sent_label[\"e\"])\n",
    "\n",
    "        sf.write(\n",
    "            file=os.path.join(NEW_SONGS_PATH, file_id + \"-\" + str(i) + \".wav\"),\n",
    "            data=sent_audiodata,\n",
    "            samplerate=samplerate\n",
    "        )"
   ]
  }
 ],
 "metadata": {
  "kernelspec": {
   "display_name": "ZaloAI",
   "language": "python",
   "name": "python3"
  },
  "language_info": {
   "codemirror_mode": {
    "name": "ipython",
    "version": 3
   },
   "file_extension": ".py",
   "mimetype": "text/x-python",
   "name": "python",
   "nbconvert_exporter": "python",
   "pygments_lexer": "ipython3",
   "version": "3.8.0"
  }
 },
 "nbformat": 4,
 "nbformat_minor": 5
}
