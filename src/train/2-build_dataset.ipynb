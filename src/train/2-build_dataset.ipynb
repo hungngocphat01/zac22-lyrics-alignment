{
 "cells": [
  {
   "cell_type": "code",
   "execution_count": 1,
   "id": "163d6088-3290-4d6f-989d-88e6c0e148ba",
   "metadata": {},
   "outputs": [],
   "source": [
    "from datasets import Dataset, Audio\n",
    "import os\n",
    "import re\n",
    "import json\n",
    "import soundfile as sf\n",
    "import numpy as np\n",
    "import librosa"
   ]
  },
  {
   "cell_type": "code",
   "execution_count": 2,
   "id": "9b845c3f-c43d-4712-bec1-d055a623b20f",
   "metadata": {},
   "outputs": [
    {
     "data": {
      "application/vnd.jupyter.widget-view+json": {
       "model_id": "3e1c1996142d4798ab94fff9d5491262",
       "version_major": 2,
       "version_minor": 0
      },
      "text/plain": [
       "VBox(children=(HTML(value='<center> <img\\nsrc=https://huggingface.co/front/assets/huggingface_logo-noborder.sv…"
      ]
     },
     "metadata": {},
     "output_type": "display_data"
    }
   ],
   "source": [
    "from huggingface_hub import notebook_login\n",
    "notebook_login()"
   ]
  },
  {
   "cell_type": "code",
   "execution_count": 3,
   "id": "924fd16f-d3ad-4b89-a918-bd1edce2a26e",
   "metadata": {},
   "outputs": [],
   "source": [
    "SONGS_PATH = \"new-songs\"\n",
    "LABELS_PATH = \"new-labels\""
   ]
  },
  {
   "cell_type": "code",
   "execution_count": 4,
   "id": "f3a31663-5703-4a00-8a33-02c0ff422f7a",
   "metadata": {},
   "outputs": [],
   "source": [
    "audio_files = os.listdir(SONGS_PATH)\n",
    "\n",
    "file_ids = [f.split(\".\")[0] for f in audio_files]\n",
    "file_ids = list(filter(lambda x: len(x) > 0, file_ids))"
   ]
  },
  {
   "cell_type": "code",
   "execution_count": 5,
   "id": "2daaf7cd-95db-4659-b49b-840e8e30ddd4",
   "metadata": {},
   "outputs": [],
   "source": [
    "audio_dataset = Dataset.from_dict({\"audio\": [os.path.join(\"new-songs\", filename) for filename in audio_files]})\n",
    "audio_dataset = audio_dataset.cast_column(\"audio\", Audio(mono=True))"
   ]
  },
  {
   "cell_type": "code",
   "execution_count": 6,
   "id": "8b11bba2-9693-4523-a228-34f75e1743a6",
   "metadata": {},
   "outputs": [
    {
     "data": {
      "text/plain": [
       "{'audio': {'path': 'new-songs/3130303230345f3135-0.wav',\n",
       "  'array': array([0.14880371, 0.1972351 , 0.2727661 , ..., 0.1324768 , 0.12802124,\n",
       "         0.12438965], dtype=float32),\n",
       "  'sampling_rate': 44100}}"
      ]
     },
     "execution_count": 6,
     "metadata": {},
     "output_type": "execute_result"
    }
   ],
   "source": [
    "audio_dataset[0]"
   ]
  },
  {
   "cell_type": "code",
   "execution_count": 7,
   "id": "418ac7b0-0564-4d39-8420-6c98af442c9e",
   "metadata": {},
   "outputs": [],
   "source": [
    "TARGET_SAMPLING_RATE = 16000\n",
    "def attach_lyrics_and_resample(batch):\n",
    "    batch[\"text\"] = []\n",
    "    new_audio = []\n",
    "    \n",
    "    for elem in batch[\"audio\"]:\n",
    "        # Bypass \"input length too short\" error\n",
    "        if len(elem[\"array\"]) == 0:\n",
    "            continue\n",
    "        \n",
    "        # Read lyrics file\n",
    "        audio_path = elem[\"path\"]\n",
    "        _, audio_filename = audio_path.split(\"/\")\n",
    "        filename, _ = audio_filename.split(\".\")\n",
    "        \n",
    "        # Attach lyrics\n",
    "        label_path = os.path.join(LABELS_PATH, filename + \".json\")\n",
    "        with open(label_path) as f:\n",
    "            label_data = f.read()\n",
    "        label_data = json.loads(label_data)\n",
    "        sent_text = \" \".join([tok[\"d\"] for tok in label_data[\"l\"]])\n",
    "        \n",
    "        if len(re.sub(\" \", \"\", sent_text)) == 0:\n",
    "            continue\n",
    "        \n",
    "        batch[\"text\"].append(sent_text)\n",
    "        \n",
    "        # Resample\n",
    "        elem[\"array\"] = librosa.resample(\n",
    "            y=elem[\"array\"], \n",
    "            orig_sr=elem[\"sampling_rate\"], \n",
    "            target_sr=TARGET_SAMPLING_RATE)\n",
    "        \n",
    "        elem[\"sampling_rate\"] = TARGET_SAMPLING_RATE\n",
    "        elem[\"path\"] = audio_path\n",
    "        new_audio.append(elem)\n",
    "        \n",
    "    batch[\"audio\"] = new_audio\n",
    "    return batch"
   ]
  },
  {
   "cell_type": "code",
   "execution_count": 8,
   "id": "2e73449a-dc22-4d50-8eff-f1056ce8a7bd",
   "metadata": {},
   "outputs": [
    {
     "name": "stderr",
     "output_type": "stream",
     "text": [
      "Parameter 'indices'=range(0, 1154) of the transform datasets.arrow_dataset.Dataset.select couldn't be hashed properly, a random hash was used instead. Make sure your transforms and parameters are serializable with pickle or dill for the dataset fingerprinting and caching to work. If you reuse this transform, the caching mechanism will consider it to be different from the previous calls and recompute everything. This warning is only showed once. Subsequent hashing failures won't be showed.\n"
     ]
    },
    {
     "name": "stdout",
     "output_type": "stream",
     "text": [
      "          "
     ]
    },
    {
     "data": {
      "application/vnd.jupyter.widget-view+json": {
       "model_id": "2d537831f66d4dd783b3ce2b784e6736",
       "version_major": 2,
       "version_minor": 0
      },
      "text/plain": [
       "#0:   0%|          | 0/12 [00:00<?, ?ba/s]"
      ]
     },
     "metadata": {},
     "output_type": "display_data"
    },
    {
     "name": "stdout",
     "output_type": "stream",
     "text": [
      " "
     ]
    },
    {
     "data": {
      "application/vnd.jupyter.widget-view+json": {
       "model_id": "0b48b2a3d5c2410f80995bae2be6780f",
       "version_major": 2,
       "version_minor": 0
      },
      "text/plain": [
       "#1:   0%|          | 0/12 [00:00<?, ?ba/s]"
      ]
     },
     "metadata": {},
     "output_type": "display_data"
    },
    {
     "name": "stdout",
     "output_type": "stream",
     "text": [
      " "
     ]
    },
    {
     "data": {
      "application/vnd.jupyter.widget-view+json": {
       "model_id": "775972bca1b94995945740a6edf9fc8c",
       "version_major": 2,
       "version_minor": 0
      },
      "text/plain": [
       "#2:   0%|          | 0/12 [00:00<?, ?ba/s]"
      ]
     },
     "metadata": {},
     "output_type": "display_data"
    },
    {
     "name": "stdout",
     "output_type": "stream",
     "text": [
      " "
     ]
    },
    {
     "data": {
      "application/vnd.jupyter.widget-view+json": {
       "model_id": "ac53f24d6cab41feb5454e07882643c2",
       "version_major": 2,
       "version_minor": 0
      },
      "text/plain": [
       "#3:   0%|          | 0/12 [00:00<?, ?ba/s]"
      ]
     },
     "metadata": {},
     "output_type": "display_data"
    },
    {
     "name": "stdout",
     "output_type": "stream",
     "text": [
      " "
     ]
    },
    {
     "data": {
      "application/vnd.jupyter.widget-view+json": {
       "model_id": "ddab8a753044461ebcb691b7fdb711d0",
       "version_major": 2,
       "version_minor": 0
      },
      "text/plain": [
       "#4:   0%|          | 0/12 [00:00<?, ?ba/s]"
      ]
     },
     "metadata": {},
     "output_type": "display_data"
    },
    {
     "name": "stdout",
     "output_type": "stream",
     "text": [
      " "
     ]
    },
    {
     "data": {
      "application/vnd.jupyter.widget-view+json": {
       "model_id": "75cf946655254c1080cf8a1a3f8ea827",
       "version_major": 2,
       "version_minor": 0
      },
      "text/plain": [
       "#5:   0%|          | 0/12 [00:00<?, ?ba/s]"
      ]
     },
     "metadata": {},
     "output_type": "display_data"
    },
    {
     "name": "stdout",
     "output_type": "stream",
     "text": [
      " "
     ]
    },
    {
     "data": {
      "application/vnd.jupyter.widget-view+json": {
       "model_id": "f8123dfad7404612b35195d9b61715a6",
       "version_major": 2,
       "version_minor": 0
      },
      "text/plain": [
       "#6:   0%|          | 0/12 [00:00<?, ?ba/s]"
      ]
     },
     "metadata": {},
     "output_type": "display_data"
    },
    {
     "data": {
      "application/vnd.jupyter.widget-view+json": {
       "model_id": "71e92f7e8fee434a831911a643493965",
       "version_major": 2,
       "version_minor": 0
      },
      "text/plain": [
       "#7:   0%|          | 0/12 [00:00<?, ?ba/s]"
      ]
     },
     "metadata": {},
     "output_type": "display_data"
    }
   ],
   "source": [
    "dataset_lr = audio_dataset.map(attach_lyrics_and_resample, batched=True, batch_size=100, num_proc=8)"
   ]
  },
  {
   "cell_type": "code",
   "execution_count": 9,
   "id": "87e23eec-8f11-4246-8b13-80b08e600766",
   "metadata": {},
   "outputs": [
    {
     "data": {
      "application/vnd.jupyter.widget-view+json": {
       "model_id": "028fbd8b6b5d461b84886de2e54c0c67",
       "version_major": 2,
       "version_minor": 0
      },
      "text/plain": [
       "  0%|          | 0/5 [00:00<?, ?ba/s]"
      ]
     },
     "metadata": {},
     "output_type": "display_data"
    },
    {
     "data": {
      "application/vnd.jupyter.widget-view+json": {
       "model_id": "863cca6833984c6faf5fe0c5f3f5b409",
       "version_major": 2,
       "version_minor": 0
      },
      "text/plain": [
       "Pushing dataset shards to the dataset hub:   0%|          | 0/2 [00:00<?, ?it/s]"
      ]
     },
     "metadata": {},
     "output_type": "display_data"
    },
    {
     "data": {
      "application/vnd.jupyter.widget-view+json": {
       "model_id": "c55d6a51be854ba49994c2d3995551a7",
       "version_major": 2,
       "version_minor": 0
      },
      "text/plain": [
       "  0%|          | 0/5 [00:00<?, ?ba/s]"
      ]
     },
     "metadata": {},
     "output_type": "display_data"
    },
    {
     "data": {
      "application/vnd.jupyter.widget-view+json": {
       "model_id": "b996a2e96cc54432a7895271d1a05d77",
       "version_major": 2,
       "version_minor": 0
      },
      "text/plain": [
       "Deleting unused files from dataset repository:   0%|          | 0/2 [00:00<?, ?it/s]"
      ]
     },
     "metadata": {},
     "output_type": "display_data"
    },
    {
     "name": "stderr",
     "output_type": "stream",
     "text": [
      "Updating downloaded metadata with the new split.\n"
     ]
    }
   ],
   "source": [
    "dataset_lr.push_to_hub(\"hungngocphat01/zalo-ai-train\")"
   ]
  }
 ],
 "metadata": {
  "kernelspec": {
   "display_name": "ZaloAI",
   "language": "python",
   "name": "python3"
  },
  "language_info": {
   "codemirror_mode": {
    "name": "ipython",
    "version": 3
   },
   "file_extension": ".py",
   "mimetype": "text/x-python",
   "name": "python",
   "nbconvert_exporter": "python",
   "pygments_lexer": "ipython3",
   "version": "3.8.0"
  }
 },
 "nbformat": 4,
 "nbformat_minor": 5
}
